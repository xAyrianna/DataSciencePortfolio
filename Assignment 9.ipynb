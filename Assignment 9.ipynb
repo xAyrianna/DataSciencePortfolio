{
 "cells": [
  {
   "cell_type": "markdown",
   "id": "17dd4ada",
   "metadata": {},
   "source": [
    "# Portfolio assignment 9\n",
    "25 min: Perform a bivariate analysis on the columns with numerical data in the penguins dataset.\n",
    "\n",
    "Use corr() on the DataFrame to calculate all the correlations. Use the code example above to show the correlation table with colors.\n",
    "Look at the corrrelations. Do they match your expectations?\n",
    "Show a scatter plot for\n",
    "The strongest positive correlation\n",
    "The strongest negative correlation\n",
    "The weakest correlation"
   ]
  },
  {
   "cell_type": "code",
   "execution_count": 1,
   "id": "f026cc05",
   "metadata": {},
   "outputs": [],
   "source": [
    "import pandas as pd\n",
    "import seaborn as sns"
   ]
  }
 ],
 "metadata": {
  "kernelspec": {
   "display_name": "Python 3 (ipykernel)",
   "language": "python",
   "name": "python3"
  },
  "language_info": {
   "codemirror_mode": {
    "name": "ipython",
    "version": 3
   },
   "file_extension": ".py",
   "mimetype": "text/x-python",
   "name": "python",
   "nbconvert_exporter": "python",
   "pygments_lexer": "ipython3",
   "version": "3.9.13"
  }
 },
 "nbformat": 4,
 "nbformat_minor": 5
}
